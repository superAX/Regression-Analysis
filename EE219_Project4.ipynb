{
 "cells": [
  {
   "cell_type": "markdown",
   "metadata": {},
   "source": [
    "# Part 1"
   ]
  },
  {
   "cell_type": "code",
   "execution_count": null,
   "metadata": {},
   "outputs": [],
   "source": [
    "import pandas as pd\n",
    "import numpy as np\n",
    "import matplotlib.pyplot as plt\n",
    "\n",
    "data = pd.read_csv('network_backup_dataset.csv')\n",
    "\n",
    "# Add a column to data with the day number\n",
    "weekdays = {'Monday': 1, 'Tuesday': 2, 'Wednesday': 3, 'Thursday': 4, 'Friday': 5, 'Saturday': 6, 'Sunday': 7}\n",
    "data = data.replace({'Day of Week': weekdays}); #replace day with number\n",
    "data['Day #'] = data['Day of Week'] + (data['Week #'] - 1)*7"
   ]
  },
  {
   "cell_type": "markdown",
   "metadata": {},
   "source": [
    "## - Point a)"
   ]
  },
  {
   "cell_type": "code",
   "execution_count": null,
   "metadata": {},
   "outputs": [],
   "source": [
    "# For the first 20 days\n",
    "data_20 = data[data['Day #']<=20]\n",
    "\n",
    "for workflow, day_backup in data_20[['Work-Flow-ID','Day #', 'Size of Backup (GB)']].groupby('Work-Flow-ID'):\n",
    "    size_list = list()\n",
    "    day_list = list()\n",
    "    for d, s in day_backup.groupby('Day #'):\n",
    "        size_list.append(sum(s['Size of Backup (GB)']))\n",
    "        day_list.append(d)\n",
    "        \n",
    "    plt.plot(day_list, size_list, label = Workflow)\n",
    "    \n",
    "plt.xlabel('Day')\n",
    "plt.ylabel('Total Backup Size (GB)')\n",
    "plt.legend()\n",
    "plt.show()"
   ]
  }
 ],
 "metadata": {
  "kernelspec": {
   "display_name": "Python 3",
   "language": "python",
   "name": "python3"
  },
  "language_info": {
   "codemirror_mode": {
    "name": "ipython",
    "version": 3
   },
   "file_extension": ".py",
   "mimetype": "text/x-python",
   "name": "python",
   "nbconvert_exporter": "python",
   "pygments_lexer": "ipython3",
   "version": "3.7.1"
  }
 },
 "nbformat": 4,
 "nbformat_minor": 2
}
